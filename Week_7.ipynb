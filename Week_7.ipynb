{
 "cells": [
  {
   "cell_type": "code",
   "execution_count": 3,
   "metadata": {},
   "outputs": [
    {
     "name": "stdout",
     "output_type": "stream",
     "text": [
      "['Bred politisk aftale: Danmark vil være næsten åbent, når alle over 50 år har fået tilbudt vaccine', 'ANALYSE Netanyahu har vaccineret i rekordfart – men mange israelere er immune over for hans valgløfter', 'PORTRÆT Hvem er Israels selvudnævnte vaccinekonge?', 'PORTRÆT Hvem er Israels selvudnævnte vaccinekonge?', 'Styrelse regner med at genoptage af AstraZeneca: Se din nye vaccinetid her', 'Se vaccinen blive rullet ud: Så langt er Danmark og resten af verden', \"Bekymrede danskere ringer til lægen: 'Kan du ikke sørge for, at jeg får en anden vaccine?'\", 'Vaccinekonflikt med Storbritannien spidser til: Regeringen kræver, at briterne sender vacciner til EU'] 8\n"
     ]
    }
   ],
   "source": [
    "# Exercise 1.\n",
    "# With \"websraping\" go to DR.dk, and find all headlines containing the word or name of your choice. \n",
    "# For example: \"Mette\", Vaccine\", \"Corona\" and so on. \n",
    "# Try to choose something popular/current, to be sure to get results/headlines. \n",
    "# When printing the list of headlines, try also to print the amount of headlines in the list.\n",
    "\n",
    "import matplotlib.pyplot as plt\n",
    "import bs4\n",
    "import requests\n",
    "import urllib.request\n",
    "import re\n",
    "\n",
    "url = 'https://www.dr.dk/'\n",
    "r_url = requests.get(url)\n",
    "r_url.raise_for_status()\n",
    "soup = bs4.BeautifulSoup(r_url.text, 'html.parser')\n",
    "\n",
    "list_of_headlines = []\n",
    "list_with_vaccine = []\n",
    "\n",
    "#finding all the links/headlines \n",
    "headlines = soup.findAll('a')\n",
    "for headline in headlines:\n",
    "    list_of_headlines.append(headline.getText())\n",
    "\n",
    "#making a list of Vaccine-related headlines\n",
    "for headline in list_of_headlines:\n",
    "    if('vaccine' in headline):\n",
    "        list_with_vaccine.append(headline)\n",
    "print(list_with_vaccine, len(list_with_vaccine))"
   ]
  },
  {
   "cell_type": "code",
   "execution_count": 18,
   "metadata": {},
   "outputs": [
    {
     "name": "stdout",
     "output_type": "stream",
     "text": [
      "Danmark\n",
      "PORTRÆT\n",
      "til\n",
      "['Danmark', 'Danmark'] ['PORTRÆT', 'PORTRÆT'] ['til', 'til', 'til', 'til']\n"
     ]
    },
    {
     "data": {
      "image/png": "[encoded data removed]",
      "text/plain": [
       "<Figure size 432x288 with 1 Axes>"
      ]
     },
     "metadata": {
      "needs_background": "light"
     },
     "output_type": "display_data"
    }
   ],
   "source": [
    "# Exercise 2. Pick 3 words from the text you get from exercise 1.\n",
    "# Use \"Regular Expressions\" to find whichever words you chose and show how many times they occur in the text with a bar plot.\n",
    "\n",
    "word_one = re.compile(r'Danmark')\n",
    "word_two = re.compile(r'PORTRÆT')\n",
    "word_tree = re.compile(r'til')\n",
    "\n",
    "find_one = word_one.search(str(list_with_vaccine))\n",
    "find_two = word_two.search(str(list_with_vaccine))\n",
    "find_tree = word_tree.search(str(list_with_vaccine))\n",
    "print(find_one.group(0))\n",
    "print(find_two.group(0))\n",
    "print(find_tree.group(0))\n",
    "\n",
    "find_all_one = word_one.findall(str(list_with_vaccine))\n",
    "find_all_two = word_two.findall(str(list_with_vaccine))\n",
    "find_all_tree = word_tree.findall(str(list_with_vaccine))\n",
    "print(find_all_one, find_all_two, find_all_tree)\n",
    "\n",
    "words_dict = {find_all_one[0]: len(find_all_one), find_all_two[0]: len(find_all_two), find_all_tree[0]: len(find_all_tree)}\n",
    "\n",
    "plt.bar(words.keys(), words.values())\n",
    "plt.show()"
   ]
  },
  {
   "cell_type": "code",
   "execution_count": 13,
   "metadata": {},
   "outputs": [
    {
     "name": "stdout",
     "output_type": "stream",
     "text": [
      "https://www.sygeforsikring.dk/\n"
     ]
    }
   ],
   "source": [
    "# Exercise 3. Use selenium for this exercise\n",
    "# Use one of the 3 words as a search keyword and use google.com With that keyword \n",
    "# and then get the first link from that search\n",
    "\n",
    "from selenium.webdriver.firefox.options import Options\n",
    "from selenium import webdriver\n",
    "\n",
    "url_Selenium = 'https://www.google.com/'\n",
    "\n",
    "options = Options()\n",
    "options.headless = True\n",
    "\n",
    "browser = webdriver.Firefox(options=options)\n",
    "browser.get(url_Selenium)\n",
    "browser.implicitly_wait(3)\n",
    "    \n",
    "search_field = browser.find_element_by_name('q')\n",
    "search_field.send_keys('Danmark')\n",
    "search_field.submit()\n",
    "    \n",
    "data = browser.find_element_by_xpath('//*[@id=\"rso\"]/div[1]/div[1]/div/div/div[1]/a')\n",
    "\n",
    "the_link = the_link.get_attribute(\"href\")\n",
    "\n",
    "print(the_link)"
   ]
  }
 ],
 "metadata": {
  "kernelspec": {
   "display_name": "Python 3",
   "language": "python",
   "name": "python3"
  },
  "language_info": {
   "codemirror_mode": {
    "name": "ipython",
    "version": 3
   },
   "file_extension": ".py",
   "mimetype": "text/x-python",
   "name": "python",
   "nbconvert_exporter": "python",
   "pygments_lexer": "ipython3",
   "version": "3.7.6"
  }
 },
 "nbformat": 4,
 "nbformat_minor": 4
}
