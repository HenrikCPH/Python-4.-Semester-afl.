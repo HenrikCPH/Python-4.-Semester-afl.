# Week 1 handin

## 01 Assignment
Exercises 1.2, 1.3 1.4 + exercise 1.

## 02 Status
Don't know yet.

## Solution part 1.2 - 1.4

# 1. This exercise is in the Week_1 folder.

# 1.3.1 
rangedNumbers = list(range(3, 20, 2))
for oddNumbers in rangedNumbers:
  print(oddNumbers)

# 1.3.2
listedNumbers = list(range(2, 1000002, 2))

#for evenNumbers in listedNumbers:
#  print(evenNumbers);

print(min(listedNumbers))
print(max(listedNumbers))
print(sum(listedNumbers))

# 1.3.3
numberList = list(range(1, 300))
#print(numberList)

my_comp = [element*3 for element in numberList if element < 101]
print(my_comp)

# 1.3.4
cubeList = list(range(1, 11))

for number in cubeList:
  print(number**3);

# 1.4

months_dict = {"JAN": 1, "FEB": 2, "MAR": 3, "APR": 4, "MAJ": 5, "JUN": 6, 
               "JUL": 7, "AUG": 8, "SEP": 9, "OKT": 10, "NOV": 11, "DEC": 12}

tupeledDict = tuple(months_dict)
print(tupeledDict[2])

print("8-{MAR}-85".format(**months_dict))

strTemp1 = "Date: %s-%s-%s" %(8,tupeledDict[2],85)
print(strTemp1)
strTemp2 = "Date: %s-%s-%s" %(8,months_dict["MAR"],85)
print(strTemp2)

theDate = "8-MAR-85"

splitDate = theDate.split("-")

splitDate[1] = months_dict["MAR"]

showDate = "Date: %s-%s-%s" %(splitDate[0],splitDate[1],splitDate[2])

print(showDate)

## Exercise 1

# 1.1
namesList = list("Henrik", "Søren", "Morten", "Hanne", "Helle")





