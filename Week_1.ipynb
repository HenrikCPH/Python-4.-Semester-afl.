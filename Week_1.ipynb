{"cells":[{"metadata":{},"cell_type":"markdown","source":"# Week 1 handin"},{"metadata":{},"cell_type":"markdown","source":"## 01 Assignment\nExercises 1.2, 1.3 1.4 + exercise 1."},{"metadata":{},"cell_type":"markdown","source":"## 02 Status\nDon't know yet."},{"metadata":{},"cell_type":"markdown","source":"## Solution part 1.2 - 1.4"},{"metadata":{"trusted":true},"cell_type":"code","source":"# 1. This exercise is in the Week_1 folder.","execution_count":4,"outputs":[]},{"metadata":{"trusted":true},"cell_type":"code","source":"# 1.3.1 \nrangedNumbers = list(range(3, 20, 2))\nfor oddNumbers in rangedNumbers:\n  print(oddNumbers)","execution_count":1,"outputs":[{"name":"stdout","output_type":"stream","text":"3\n5\n7\n9\n11\n13\n15\n17\n19\n"}]},{"metadata":{"trusted":true},"cell_type":"code","source":"# 1.3.2\nlistedNumbers = list(range(2, 1000002, 2))\n\n#for evenNumbers in listedNumbers:\n#  print(evenNumbers);\n\nprint(min(listedNumbers))\nprint(max(listedNumbers))\nprint(sum(listedNumbers))","execution_count":2,"outputs":[{"name":"stdout","output_type":"stream","text":"2\n1000000\n250000500000\n"}]},{"metadata":{"trusted":true},"cell_type":"code","source":"# 1.3.3\nnumberList = list(range(1, 300))\n#print(numberList)\n\nmy_comp = [element*3 for element in numberList if element < 101]\nprint(my_comp)","execution_count":3,"outputs":[{"name":"stdout","output_type":"stream","text":"[3, 6, 9, 12, 15, 18, 21, 24, 27, 30, 33, 36, 39, 42, 45, 48, 51, 54, 57, 60, 63, 66, 69, 72, 75, 78, 81, 84, 87, 90, 93, 96, 99, 102, 105, 108, 111, 114, 117, 120, 123, 126, 129, 132, 135, 138, 141, 144, 147, 150, 153, 156, 159, 162, 165, 168, 171, 174, 177, 180, 183, 186, 189, 192, 195, 198, 201, 204, 207, 210, 213, 216, 219, 222, 225, 228, 231, 234, 237, 240, 243, 246, 249, 252, 255, 258, 261, 264, 267, 270, 273, 276, 279, 282, 285, 288, 291, 294, 297, 300]\n"}]},{"metadata":{"trusted":true},"cell_type":"code","source":"# 1.3.4\ncubeList = list(range(1, 11))\n\nfor number in cubeList:\n  print(number**3);","execution_count":111,"outputs":[{"name":"stdout","output_type":"stream","text":"1\n8\n27\n64\n125\n216\n343\n512\n729\n1000\n"}]},{"metadata":{"trusted":true},"cell_type":"code","source":"# 1.4\n\nmonths_dict = {\"JAN\": 1, \"FEB\": 2, \"MAR\": 3, \"APR\": 4, \"MAJ\": 5, \"JUN\": 6, \n               \"JUL\": 7, \"AUG\": 8, \"SEP\": 9, \"OKT\": 10, \"NOV\": 11, \"DEC\": 12}\n\ntupeledDict = tuple(months_dict)\nprint(tupeledDict[2])\n\nprint(\"8-{MAR}-85\".format(**months_dict))\n\nstrTemp1 = \"Date: %s-%s-%s\" %(8,tupeledDict[2],85)\nprint(strTemp1)\nstrTemp2 = \"Date: %s-%s-%s\" %(8,months_dict[\"MAR\"],85)\nprint(strTemp2)\n\ntheDate = \"8-MAR-85\"\n\nsplitDate = theDate.split(\"-\")\n\nsplitDate[1] = months_dict[\"MAR\"]\n\nshowDate = \"Date: %s-%s-%s\" %(splitDate[0],splitDate[1],splitDate[2])\n\nprint(showDate)","execution_count":1,"outputs":[{"name":"stdout","output_type":"stream","text":"MAR\n8-3-85\nDate: 8-MAR-85\nDate: 8-3-85\nDate: 8-3-85\n"}]},{"metadata":{},"cell_type":"markdown","source":"## Exercise 1"},{"metadata":{"trusted":true},"cell_type":"code","source":"# 1.1\nnamesList = list(\"Henrik\", \"Søren\", \"Morten\", \"Hanne\", \"Helle\")\n\n","execution_count":null,"outputs":[]},{"metadata":{"trusted":true},"cell_type":"code","source":"","execution_count":null,"outputs":[]},{"metadata":{"trusted":true},"cell_type":"code","source":"","execution_count":null,"outputs":[]}],"metadata":{"kernelspec":{"name":"python3","display_name":"Python 3","language":"python"},"language_info":{"name":"python","version":"3.7.8","mimetype":"text/x-python","codemirror_mode":{"name":"ipython","version":3},"pygments_lexer":"ipython3","nbconvert_exporter":"python","file_extension":".py"}},"nbformat":4,"nbformat_minor":4}
=======
{
 "cells": [
  {
   "cell_type": "markdown",
   "metadata": {},
   "source": [
    "# Week 1 handin"
   ]
  },
  {
   "cell_type": "markdown",
   "metadata": {},
   "source": [
    "## Assignment\n",
    "Here is the text for the assignment linked to"
   ]
  },
  {
   "cell_type": "markdown",
   "metadata": {},
   "source": [
    "## Status\n",
    "Here is a status on the handin. How far you got. What is implemented and what is not"
   ]
  },
  {
   "cell_type": "markdown",
   "metadata": {},
   "source": [
    "## Solution part 1"
   ]
  },
  {
   "cell_type": "code",
   "execution_count": 4,
   "metadata": {},
   "outputs": [],
   "source": [
    "# 1.1 some code here with docstrings"
   ]
  },
  {
   "cell_type": "code",
   "execution_count": null,
   "metadata": {},
   "outputs": [],
   "source": [
    "# 1.2 some code here with docstrings"
   ]
  },
  {
   "cell_type": "code",
   "execution_count": null,
   "metadata": {},
   "outputs": [],
   "source": [
    "# 1.3"
   ]
  },
  {
   "cell_type": "markdown",
   "metadata": {},
   "source": [
    "## Solution part 2"
   ]
  },
  {
   "cell_type": "code",
   "execution_count": null,
   "metadata": {},
   "outputs": [],
   "source": []
  },
  {
   "cell_type": "code",
   "execution_count": null,
   "metadata": {},
   "outputs": [],
   "source": []
  },
  {
   "cell_type": "code",
   "execution_count": null,
   "metadata": {},
   "outputs": [],
   "source": []
  }
 ],
 "metadata": {
  "kernelspec": {
   "display_name": "Python 3",
   "language": "python",
   "name": "python3"
  },
  "language_info": {
   "codemirror_mode": {
    "name": "ipython",
    "version": 3
   },
   "file_extension": ".py",
   "mimetype": "text/x-python",
   "name": "python",
   "nbconvert_exporter": "python",
   "pygments_lexer": "ipython3",
   "version": "3.7.6"
  }
 },
 "nbformat": 4,
 "nbformat_minor": 4
}
