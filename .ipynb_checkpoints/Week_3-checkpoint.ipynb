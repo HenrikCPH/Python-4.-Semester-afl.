{
 "cells": [
  {
   "cell_type": "markdown",
   "metadata": {},
   "source": [
    "# Week 3 handin"
   ]
  },
  {
   "cell_type": "markdown",
   "metadata": {},
   "source": [
    "## Assignment\n",
    "Exercise 3"
   ]
  },
  {
   "cell_type": "markdown",
   "metadata": {},
   "source": [
    "## Status\n",
    "I completed about half of the exercises. 1-7 somewhat."
   ]
  },
  {
   "cell_type": "markdown",
   "metadata": {},
   "source": [
    "### Exercise 1"
   ]
  },
  {
   "cell_type": "code",
   "execution_count": 64,
   "metadata": {
    "scrolled": false
   },
   "outputs": [
    {
     "name": "stdout",
     "output_type": "stream",
     "text": [
      "8 Students got added:\n"
     ]
    }
   ],
   "source": [
    "# Random student generator   \n",
    "import random\n",
    "import csv\n",
    "\n",
    "ranListOfNames = [\"Albert\", \"Brian\", \"Carsten\", \"Danny\", \"Frederik\", \"Anna\", \"Birte\", \"Carinna\", \"Dorte\", \"Frederikke\"]\n",
    "\n",
    "ranListOfImage_urls = [\"HappyImage\", \"SadImage\", \"PuppyImage\", \"AnotherImage\", \"HelloWorldImage\"]\n",
    "\n",
    "ranListOfGrades = [\"A+\", \"A\", \"A-\", \"B+\", \"B\", \"B-\", \"C+\", \"C\", \"C-\"]\n",
    "\n",
    "ranGender = [\"Male\", \"Female\"]\n",
    "\n",
    "ranCourse = [Course(\"Python\", \"Zoom T\", \"Thomas\", random.randrange(0, 101), random.choice(ranListOfGrades)), \n",
    "            Course(\"Unity\", \"Zoom J\", \"Jesper\", random.randrange(0, 101), random.choice(ranListOfGrades)), \n",
    "            Course(\"Security\", \"Zoom D\", \"Daniel\", random.randrange(0, 101), random.choice(ranListOfGrades))]\n",
    "\n",
    "# Student class\n",
    "class Student():\n",
    "    \n",
    "    def __init__(self, name, gender, data_sheet, image_url):\n",
    "        self.name = name\n",
    "        self.gender = gender\n",
    "        self.data_sheet = data_sheet\n",
    "        self.image_url = image_url\n",
    "        \n",
    "    def __repr__(self):\n",
    "        return '{} {} {} {}'.format(self.name, self.gender, self.data_sheet, self.image_url)\n",
    "    \n",
    "    def get_avg_grade(listOfGrades):\n",
    "        avg_value = sum(listOfGrades) / len(listOfGrades)\n",
    "        \n",
    "# DataSheet class\n",
    "class DataSheet():    \n",
    "    \n",
    "    def __init__(self, courses=[]):\n",
    "        self.courses = courses\n",
    "    \n",
    "    def __repr__(self):\n",
    "        return '{}'.format(self.courses)\n",
    "    \n",
    "    def get_grades_as_list(self):\n",
    "        grades = []\n",
    "        for course in self.courses:\n",
    "            grades.append()#mangler en variabel\n",
    "            return grades\n",
    "\n",
    "# Course class\n",
    "class Course():\n",
    "    \n",
    "    def __init__(self, name, classroom, teacher, ETCS, grade=None):\n",
    "        self.name = name\n",
    "        self.classroom = classroom\n",
    "        self.teacher = teacher\n",
    "        self.ETCS = ETCS\n",
    "        self.grade = grade\n",
    "    \n",
    "    def __repr__(self):\n",
    "        return '{} {} {} {} {}'.format(self.name, self.classroom, self.teacher, self.ETCS, self.grade)\n",
    "\n",
    "def rngStudent():\n",
    "    studentAdded = []\n",
    "    ranNum = random.randrange(1, 25)\n",
    "    print(ranNum, \"Students got added:\")\n",
    "    for n in range(ranNum):\n",
    "        studentAdded.append(Student(random.choice(ranListOfNames), \n",
    "                                    random.choice(ranGender),\n",
    "                                    (DataSheet(ranCourse)),\n",
    "                                    random.choice(ranListOfImage_urls)))              \n",
    "        return studentAdded\n",
    "\n",
    "def write_list_to_CSV_file(output_file, studentList):\n",
    "    with open(output_file, 'w') as file_object:\n",
    "        writer = csv.writer(file_object)\n",
    "        for student in studentList:\n",
    "            writer.writerows(str(student))\n",
    "            \n",
    "write_list_to_CSV_file(\"List_of_students.csv\", rngStudent())"
   ]
  }
 ],
 "metadata": {
  "kernelspec": {
   "display_name": "Python 3",
   "language": "python",
   "name": "python3"
  },
  "language_info": {
   "codemirror_mode": {
    "name": "ipython",
    "version": 3
   },
   "file_extension": ".py",
   "mimetype": "text/x-python",
   "name": "python",
   "nbconvert_exporter": "python",
   "pygments_lexer": "ipython3",
   "version": "3.7.6"
  }
 },
 "nbformat": 4,
 "nbformat_minor": 4
}
