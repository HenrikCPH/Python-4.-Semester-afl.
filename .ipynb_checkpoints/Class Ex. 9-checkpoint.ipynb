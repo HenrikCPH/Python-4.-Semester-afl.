{
 "cells": [
  {
   "cell_type": "code",
   "execution_count": 4,
   "metadata": {},
   "outputs": [],
   "source": [
    "import random\n",
    "## 1.1\n",
    "\n",
    "#n = number of samples to generate\n",
    "def generateData(n):\n",
    "    genders = (\"male\", \"female\")\n",
    "    height_interval_cm = (40, 65)\n",
    "    weight_interval_g = (2000, 5000)\n",
    "\n",
    "    babies = []\n",
    "\n",
    "    for x in range(n):\n",
    "        gender = random.choice(genders)\n",
    "        height = random.randint(height_interval_cm[0], height_interval_cm[1])\n",
    "        weight = random.randint(weight_interval_g[0], weight_interval_g[1])\n",
    "        babies.append([gender, height, weight])\n",
    "        \n",
    "    with open(\"babies_csv.csv\", \"w\") as file_object:\n",
    "        for b in babies:\n",
    "            file_object.writelines(str(b[0]) + \",\" + str(b[1]) + \",\" + str(b[2]) + '\\n')\n",
    "\n",
    "generateData(10)"
   ]
  },
  {
   "cell_type": "code",
   "execution_count": 11,
   "metadata": {},
   "outputs": [
    {
     "data": {
      "text/plain": [
       "[['female', 48, 3224],\n",
       " ['female', 51, 3294],\n",
       " ['female', 53, 2852],\n",
       " ['male', 63, 3562],\n",
       " ['male', 48, 3639],\n",
       " ['female', 61, 3367],\n",
       " ['female', 61, 4807],\n",
       " ['female', 56, 3594],\n",
       " ['male', 61, 4252],\n",
       " ['male', 42, 4006]]"
      ]
     },
     "execution_count": 11,
     "metadata": {},
     "output_type": "execute_result"
    }
   ],
   "source": [
    "import csv\n",
    "from sklearn.preprocessing import OneHotEncoder\n",
    "\n",
    "def read_csv(input_file):\n",
    "    \"\"\"Take a csv file and read each row into a list\"\"\"\n",
    "    lst = []\n",
    "    with open(input_file, \"r\") as file_object:\n",
    "        reader = csv.reader(file_object, delimiter=',')\n",
    "        for row in reader:\n",
    "            new_row = [row[0], int(row[1]), int(row[2])]\n",
    "            lst.append(new_row)\n",
    "\n",
    "    return lst\n",
    "\n",
    "read_csv(\"babies_csv.csv\")"
   ]
  }
 ],
 "metadata": {
  "kernelspec": {
   "display_name": "Python 3",
   "language": "python",
   "name": "python3"
  },
  "language_info": {
   "codemirror_mode": {
    "name": "ipython",
    "version": 3
   },
   "file_extension": ".py",
   "mimetype": "text/x-python",
   "name": "python",
   "nbconvert_exporter": "python",
   "pygments_lexer": "ipython3",
   "version": "3.7.6"
  }
 },
 "nbformat": 4,
 "nbformat_minor": 4
}
