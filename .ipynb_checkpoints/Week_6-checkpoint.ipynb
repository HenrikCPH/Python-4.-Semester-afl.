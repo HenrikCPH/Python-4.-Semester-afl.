{
 "cells": [
  {
   "cell_type": "markdown",
   "metadata": {},
   "source": [
    "# Week 6 handin"
   ]
  },
  {
   "cell_type": "markdown",
   "metadata": {},
   "source": [
    "## 01 Assignment\n",
    "Exercise 6"
   ]
  },
  {
   "cell_type": "markdown",
   "metadata": {},
   "source": [
    "## 02 Status\n",
    "I completed 1-8"
   ]
  },
  {
   "cell_type": "markdown",
   "metadata": {},
   "source": [
    "### Exercise 6"
   ]
  },
  {
   "cell_type": "code",
   "execution_count": 86,
   "metadata": {},
   "outputs": [
    {
     "name": "stdout",
     "output_type": "stream",
     "text": [
      "['https://www.gutenberg.org/files/84/84-0.txt', 'https://www.gutenberg.org/files/1342/1342-0.txt', 'https://www.gutenberg.org/files/64317/64317-0.txt', 'https://www.gutenberg.org/files/1080/1080-0.txt', 'https://www.gutenberg.org/files/2542/2542-0.txt', 'https://www.gutenberg.org/files/844/844-0.txt', 'https://www.gutenberg.org/ebooks/5200.txt.utf-8', 'https://www.gutenberg.org/files/2701/2701-0.txt', 'https://www.gutenberg.org/files/1260/1260-0.txt', 'https://www.gutenberg.org/files/43/43-0.txt']\n",
      "\n",
      "(2.13, '5.txt')\n",
      "\n",
      "5.txt\n"
     ]
    }
   ],
   "source": [
    "# Ex 2.1 + 2.2\n",
    "from modules.module_for_ex6 import url_book_handler\n",
    "\n",
    "urls = [] \n",
    "urls.append('https://www.gutenberg.org/files/84/84-0.txt')\n",
    "urls.append('https://www.gutenberg.org/files/1342/1342-0.txt')\n",
    "urls.append('https://www.gutenberg.org/files/64317/64317-0.txt')\n",
    "urls.append('https://www.gutenberg.org/files/1080/1080-0.txt')\n",
    "urls.append('https://www.gutenberg.org/files/2542/2542-0.txt')\n",
    "urls.append('https://www.gutenberg.org/files/844/844-0.txt')\n",
    "urls.append('https://www.gutenberg.org/ebooks/5200.txt.utf-8')\n",
    "urls.append('https://www.gutenberg.org/files/2701/2701-0.txt')\n",
    "urls.append('https://www.gutenberg.org/files/1260/1260-0.txt')\n",
    "urls.append('https://www.gutenberg.org/files/43/43-0.txt')\n",
    "\n",
    "books = url_book_handler(urls)\n",
    "\n",
    "books.multi_download() # !!!crash'er!!!\n",
    "\n",
    "print([x for x in books.urllist_generator()])\n",
    "print(\"\")\n",
    "print(books.avg_vowels('5.txt'))\n",
    "hardestBook = books.hardest_read()\n",
    "print(\"\")\n",
    "print(hardestBook)"
   ]
  },
  {
   "cell_type": "code",
   "execution_count": 164,
   "metadata": {},
   "outputs": [
    {
     "data": {
      "image/png": "[encoded data removed]",
      "text/plain": [
       "<Figure size 432x288 with 1 Axes>"
      ]
     },
     "metadata": {
      "needs_background": "light"
     },
     "output_type": "display_data"
    }
   ],
   "source": [
    "# Ex 2.3\n",
    "import matplotlib.pyplot as plt\n",
    "\n",
    "x_bar_dict = {}\n",
    "\n",
    "x, x_bar_dict[x] = books.avg_vowels(\"0.txt\")\n",
    "x, x_bar_dict[x] = books.avg_vowels(\"1.txt\")\n",
    "x, x_bar_dict[x] = books.avg_vowels(\"2.txt\")\n",
    "x, x_bar_dict[x] = books.avg_vowels(\"3.txt\")\n",
    "x, x_bar_dict[x] = books.avg_vowels(\"4.txt\")\n",
    "x, x_bar_dict[x] = books.avg_vowels(\"5.txt\")\n",
    "x, x_bar_dict[x] = books.avg_vowels(\"6.txt\")\n",
    "x, x_bar_dict[x] = books.avg_vowels(\"7.txt\")\n",
    "x, x_bar_dict[x] = books.avg_vowels(\"8.txt\")\n",
    "x, x_bar_dict[x] = books.avg_vowels(\"9.txt\")\n",
    "\n",
    "plt.bar(bar_dict.values(), bar_dict.keys())\n",
    "plt.xticks(rotation=90)\n",
    "plt.show()"
   ]
  }
 ],
 "metadata": {
  "kernelspec": {
   "display_name": "Python 3",
   "language": "python",
   "name": "python3"
  },
  "language_info": {
   "codemirror_mode": {
    "name": "ipython",
    "version": 3
   },
   "file_extension": ".py",
   "mimetype": "text/x-python",
   "name": "python",
   "nbconvert_exporter": "python",
   "pygments_lexer": "ipython3",
   "version": "3.7.6"
  }
 },
 "nbformat": 4,
 "nbformat_minor": 4
}
