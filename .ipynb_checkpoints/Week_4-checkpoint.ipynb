{
 "cells": [
  {
   "cell_type": "markdown",
   "metadata": {},
   "source": [
    "# Week 4 handin"
   ]
  },
  {
   "cell_type": "markdown",
   "metadata": {},
   "source": [
    "## 01 Assignment\n",
    "Exercise 4"
   ]
  },
  {
   "cell_type": "markdown",
   "metadata": {},
   "source": [
    "## 02 Status\n",
    "I completed 1.0 - 1.3 and 1.5 working on 1.4 and 1.6\n"
   ]
  },
  {
   "cell_type": "markdown",
   "metadata": {},
   "source": [
    "## 03 Solution part 1"
   ]
  },
  {
   "cell_type": "code",
   "execution_count": 2,
   "metadata": {},
   "outputs": [
    {
     "name": "stdout",
     "output_type": "stream",
     "text": [
      "number of people: 51937 in Indre By\n",
      "number of people: 75113 in Østerbro\n",
      "number of people: 78802 in Nørrebro\n",
      "number of people: 61623 in Vesterbro/Kgs. Enghave\n",
      "number of people: 51727 in Valby\n",
      "number of people: 39537 in Vanløse\n",
      "number of people: 43908 in Brønshøj-Husum\n",
      "number of people: 53604 in Bispebjerg\n",
      "number of people: 55205 in Amager Øst\n",
      "number of people: 64967 in Amager Vest\n",
      "number of people: 3872 in None\n"
     ]
    }
   ],
   "source": [
    "# 1.0 + 1.2 + 1.3\n",
    "import numpy as np\n",
    "\n",
    "filename = 'befkbhalderstatkode.csv'\n",
    "\n",
    "bef_stats_df = np.genfromtxt(filename, delimiter=',', dtype=np.uint, skip_header=1)\n",
    "\n",
    "ds = bef_stats_df\n",
    "\n",
    "neighb = {1: 'Indre By', 2: 'Østerbro', 3: 'Nørrebro', 4: 'Vesterbro/Kgs. Enghave', \n",
    "       5: 'Valby', 6: 'Vanløse', 7: 'Brønshøj-Husum', 8: 'Bispebjerg', 9: 'Amager Øst', \n",
    "       10: 'Amager Vest', 99: 'Udenfor'}\n",
    "\n",
    "data_2015 = (ds[:,0] == 2015) # Dette kaldes en mask\n",
    "\n",
    "def people_per_neighbourhood(n, mask):\n",
    "    all_people_in_given_n = ds[mask & (ds[:,1] == n)]\n",
    "    sum_of_people = all_people_in_given_n[:,4].sum()\n",
    "    return sum_of_people\n",
    "\n",
    "people_in_citys = np.array([people_per_neighbourhood(n, data_2015) for n in neighb.keys()])\n",
    "\n",
    "def peoples_in_citys():\n",
    "    count = 1\n",
    "    for people in people_in_citys:\n",
    "        print(\"number of people:\", people, \"in\", neighb.get(count))\n",
    "        count +=1\n",
    "        \n",
    "peoples_in_citys()"
   ]
  },
  {
   "cell_type": "code",
   "execution_count": 3,
   "metadata": {
    "scrolled": true
   },
   "outputs": [
    {
     "data": {
      "text/plain": [
       "([0, 1, 2, 3, 4, 5, 6, 7, 8, 9, 10],\n",
       " <a list of 11 Text major ticklabel objects>)"
      ]
     },
     "execution_count": 3,
     "metadata": {},
     "output_type": "execute_result"
    },
    {
     "data": {
      "image/png": "[encoded data removed]",
      "text/plain": [
       "<Figure size 432x288 with 1 Axes>"
      ]
     },
     "metadata": {
      "needs_background": "light"
     },
     "output_type": "display_data"
    }
   ],
   "source": [
    "# 1.4\n",
    "import matplotlib.pyplot as plt\n",
    "\n",
    "cities = list(neighb.values())\n",
    "\n",
    "citizens = people_in_citys\n",
    "\n",
    "plt.title(\"Smallest to largest area size\", fontsize=15)\n",
    "plt.bar(cities, citizens, width=0.5, align='center')\n",
    "plt.xticks(rotation=45, horizontalalignment='right',fontweight='light')"
   ]
  },
  {
   "cell_type": "code",
   "execution_count": 8,
   "metadata": {},
   "outputs": [
    {
     "name": "stdout",
     "output_type": "stream",
     "text": [
      "All elders above the age of 65 from 2015:\n",
      " 55750\n",
      "All 65y and older and from other nordic countries:\n",
      " 55161\n"
     ]
    }
   ],
   "source": [
    "# 1.5 + 1.6\n",
    "maskElders = (ds[:,0] == 2015) & (ds[:,2] > 65)\n",
    "\n",
    "print('All elders above the age of 65 from 2015:\\n',np.sum(ds[(maskElders)][:,4]))\n",
    "\n",
    "maskElderNordics = maskElders + (ds[:,3] == 5101) + (ds[:,3] == 5104) + (ds[:,3] == 5105) + (ds[:,3] == 5106) + (ds[:,3] == 5110) + (ds[:,3] == 5120)\n",
    "print('All 65y and older and from other nordic countries:\\n',np.sum(maskElderNordics))"
   ]
  }
 ],
 "metadata": {
  "kernelspec": {
   "display_name": "Python 3",
   "language": "python",
   "name": "python3"
  },
  "language_info": {
   "codemirror_mode": {
    "name": "ipython",
    "version": 3
   },
   "file_extension": ".py",
   "mimetype": "text/x-python",
   "name": "python",
   "nbconvert_exporter": "python",
   "pygments_lexer": "ipython3",
   "version": "3.7.6"
  }
 },
 "nbformat": 4,
 "nbformat_minor": 4
}
