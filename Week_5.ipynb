{
 "cells": [
  {
   "cell_type": "markdown",
   "metadata": {},
   "source": [
    "# Week 5 handin"
   ]
  },
  {
   "cell_type": "markdown",
   "metadata": {},
   "source": [
    "## 01 Assignment\n",
    "Exercise 5"
   ]
  },
  {
   "cell_type": "markdown",
   "metadata": {},
   "source": [
    "## 02 Status\n",
    "I completed Ex1, 1-5."
   ]
  },
  {
   "cell_type": "markdown",
   "metadata": {},
   "source": [
    "### Exercise 5"
   ]
  },
  {
   "cell_type": "code",
   "execution_count": 268,
   "metadata": {},
   "outputs": [
    {
     "name": "stdout",
     "output_type": "stream",
     "text": [
      "26.81% more divorces in 2020 compared to 2008\n"
     ]
    },
    {
     "data": {
      "image/png": "[encoded data removed]",
      "text/plain": [
       "<Figure size 432x288 with 1 Axes>"
      ]
     },
     "metadata": {
      "needs_background": "light"
     },
     "output_type": "display_data"
    }
   ],
   "source": [
    "# 5.A\n",
    "import numpy as np\n",
    "import pandas as pd\n",
    "\n",
    "Fraskilte = 'https://api.statbank.dk/v1/data/FOLK1A/CSV?delimiter=Semicolon&CIVILSTAND=F&Tid=2008K1%2C2008K2%2C2008K3%2C2008K4%2C2009K1%2C2009K2%2C2009K3%2C2009K4%2C2010K1%2C2010K2%2C2010K3%2C2010K4%2C2011K1%2C2011K2%2C2011K3%2C2011K4%2C2012K1%2C2012K2%2C2012K3%2C2012K4%2C2013K1%2C2013K2%2C2013K3%2C2013K4%2C2014K1%2C2014K2%2C2014K3%2C2014K4%2C2015K1%2C2015K2%2C2015K3%2C2015K4%2C2016K1%2C2016K2%2C2016K3%2C2016K4%2C2017K1%2C2017K2%2C2017K3%2C2017K4%2C2018K1%2C2018K2%2C2018K3%2C2018K4%2C2019K1%2C2019K2%2C2019K3%2C2019K4'\n",
    "\n",
    "df_fras = pd.read_csv(Fraskilte, sep=';')\n",
    "\n",
    "fras2008 = df_fras.iloc[0,2]\n",
    "fras2019 = df_fras.iloc[47,2]\n",
    "\n",
    "theChange = round((fras2019 - fras2008) / (fras2008) * 100, 2)\n",
    "print(\"{}% more divorces in 2020 compared to 2008\".format(theChange))\n",
    "\n",
    "numbers = df_fras.iloc[:,2]\n",
    "years = df_fras.iloc[:,1]\n",
    "\n",
    "plt.plot(years, numbers)\n",
    "plt.xticks(rotation=90)\n",
    "plt.show()"
   ]
  },
  {
   "cell_type": "code",
   "execution_count": 270,
   "metadata": {},
   "outputs": [
    {
     "name": "stdout",
     "output_type": "stream",
     "text": [
      "              By Tidspkt  Ugifte i pct\n",
      "0      København  2020K4         65.49\n",
      "1         Aarhus  2020K4         59.94\n",
      "4  Frederiksberg  2020K4         58.48\n",
      "2         Odense  2020K4         55.20\n",
      "3        Aalborg  2020K4         54.82\n"
     ]
    }
   ],
   "source": [
    "# 5.B\n",
    "total = 'https://api.statbank.dk/v1/data/FOLK1A/CSV?valuePresentation=Value&delimiter=Semicolon&OMR%C3%85DE=101%2C751' \\\n",
    "        '%2C461%2C851%2C147&Tid=2020K4 '\n",
    "ugift = 'https://api.statbank.dk/v1/data/FOLK1A/CSV?valuePresentation=Value&delimiter=Semicolon&OMR%C3%85DE=101%2C751' \\\n",
    "        '%2C461%2C851%2C147&Tid=2020K4&CIVILSTAND=U '\n",
    "\n",
    "df_total = pd.read_csv(total, sep=';')\n",
    "df_ugift = pd.read_csv(ugift, sep=';')\n",
    "\n",
    "df_merged = pd.merge(df_total, df_ugift, left_on='OMRÅDE', right_on='OMRÅDE')\n",
    "df_merged['Ugifte i pct'] = round(df_merged['INDHOLD_y']/df_merged['INDHOLD_x']*100, 2)\n",
    "\n",
    "answer = df_merged.drop(['INDHOLD_x', 'TID_y', 'CIVILSTAND', 'INDHOLD_y'], axis=1)\n",
    "cleaned = answer.rename(columns={\"OMRÅDE\":'By' ,\"TID_x\": \"Tidspkt\"})\n",
    "\n",
    "final = cleaned.sort_values('Ugifte i pct', ascending=False)\n",
    "print(final)"
   ]
  },
  {
   "cell_type": "code",
   "execution_count": 280,
   "metadata": {},
   "outputs": [
    {
     "data": {
      "image/png": "[encoded data removed]",
      "text/plain": [
       "<Figure size 432x288 with 1 Axes>"
      ]
     },
     "metadata": {
      "needs_background": "light"
     },
     "output_type": "display_data"
    },
    {
     "data": {
      "text/html": [
       "<div>\n",
       "<style scoped>\n",
       "    .dataframe tbody tr th:only-of-type {\n",
       "        vertical-align: middle;\n",
       "    }\n",
       "\n",
       "    .dataframe tbody tr th {\n",
       "        vertical-align: top;\n",
       "    }\n",
       "\n",
       "    .dataframe thead th {\n",
       "        text-align: right;\n",
       "    }\n",
       "</style>\n",
       "<table border=\"1\" class=\"dataframe\">\n",
       "  <thead>\n",
       "    <tr style=\"text-align: right;\">\n",
       "      <th></th>\n",
       "      <th>TID</th>\n",
       "      <th>CIVILSTAND</th>\n",
       "      <th>INDHOLD</th>\n",
       "    </tr>\n",
       "  </thead>\n",
       "  <tbody>\n",
       "    <tr>\n",
       "      <th>0</th>\n",
       "      <td>2008K1</td>\n",
       "      <td>I alt</td>\n",
       "      <td>5475791</td>\n",
       "    </tr>\n",
       "    <tr>\n",
       "      <th>1</th>\n",
       "      <td>2008K1</td>\n",
       "      <td>Ugift</td>\n",
       "      <td>2552700</td>\n",
       "    </tr>\n",
       "    <tr>\n",
       "      <th>2</th>\n",
       "      <td>2008K1</td>\n",
       "      <td>Gift/separeret</td>\n",
       "      <td>2176977</td>\n",
       "    </tr>\n",
       "    <tr>\n",
       "      <th>3</th>\n",
       "      <td>2008K1</td>\n",
       "      <td>Enke/enkemand</td>\n",
       "      <td>317250</td>\n",
       "    </tr>\n",
       "    <tr>\n",
       "      <th>4</th>\n",
       "      <td>2008K1</td>\n",
       "      <td>Fraskilt</td>\n",
       "      <td>428864</td>\n",
       "    </tr>\n",
       "    <tr>\n",
       "      <th>...</th>\n",
       "      <td>...</td>\n",
       "      <td>...</td>\n",
       "      <td>...</td>\n",
       "    </tr>\n",
       "    <tr>\n",
       "      <th>260</th>\n",
       "      <td>2021K1</td>\n",
       "      <td>I alt</td>\n",
       "      <td>5840045</td>\n",
       "    </tr>\n",
       "    <tr>\n",
       "      <th>261</th>\n",
       "      <td>2021K1</td>\n",
       "      <td>Ugift</td>\n",
       "      <td>2861497</td>\n",
       "    </tr>\n",
       "    <tr>\n",
       "      <th>262</th>\n",
       "      <td>2021K1</td>\n",
       "      <td>Gift/separeret</td>\n",
       "      <td>2136102</td>\n",
       "    </tr>\n",
       "    <tr>\n",
       "      <th>263</th>\n",
       "      <td>2021K1</td>\n",
       "      <td>Enke/enkemand</td>\n",
       "      <td>287344</td>\n",
       "    </tr>\n",
       "    <tr>\n",
       "      <th>264</th>\n",
       "      <td>2021K1</td>\n",
       "      <td>Fraskilt</td>\n",
       "      <td>555102</td>\n",
       "    </tr>\n",
       "  </tbody>\n",
       "</table>\n",
       "<p>265 rows × 3 columns</p>\n",
       "</div>"
      ],
      "text/plain": [
       "        TID      CIVILSTAND  INDHOLD\n",
       "0    2008K1           I alt  5475791\n",
       "1    2008K1           Ugift  2552700\n",
       "2    2008K1  Gift/separeret  2176977\n",
       "3    2008K1   Enke/enkemand   317250\n",
       "4    2008K1        Fraskilt   428864\n",
       "..      ...             ...      ...\n",
       "260  2021K1           I alt  5840045\n",
       "261  2021K1           Ugift  2861497\n",
       "262  2021K1  Gift/separeret  2136102\n",
       "263  2021K1   Enke/enkemand   287344\n",
       "264  2021K1        Fraskilt   555102\n",
       "\n",
       "[265 rows x 3 columns]"
      ]
     },
     "execution_count": 280,
     "metadata": {},
     "output_type": "execute_result"
    }
   ],
   "source": [
    "# 5.C\n",
    "status = 'https://api.statbank.dk/v1/data/FOLK1A/CSV?delimiter=Semicolon&Tid=*&CIVILSTAND=*'\n",
    "\n",
    "df_status = pd.read_csv(status, sep=';')\n",
    "\n",
    "yearsStatus = df_status.iloc[:,0]\n",
    "numbersStatus = df_status.iloc[:,2]\n",
    "\n",
    "plt.bar(yearsStatus, numbersStatus)\n",
    "plt.xticks(rotation=90)\n",
    "plt.show()\n",
    "\n",
    "df_status"
   ]
  }
 ],
 "metadata": {
  "kernelspec": {
   "display_name": "Python 3",
   "language": "python",
   "name": "python3"
  },
  "language_info": {
   "codemirror_mode": {
    "name": "ipython",
    "version": 3
   },
   "file_extension": ".py",
   "mimetype": "text/x-python",
   "name": "python",
   "nbconvert_exporter": "python",
   "pygments_lexer": "ipython3",
   "version": "3.7.6"
  }
 },
 "nbformat": 4,
 "nbformat_minor": 4
}
