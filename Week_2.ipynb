{
 "cells": [
  {
   "cell_type": "markdown",
   "metadata": {},
   "source": [
    "# Week 2 handin"
   ]
  },
  {
   "cell_type": "markdown",
   "metadata": {},
   "source": [
    "## Assignment\n",
    "Exercise 02-0a - 02-2 + 02-Exercise"
   ]
  },
  {
   "cell_type": "markdown",
   "metadata": {},
   "source": [
    "## Status\n",
    "I completed 02-Exercise and 02-0b."
   ]
  },
  {
   "cell_type": "markdown",
   "metadata": {},
   "source": [
    "## 02-0b Functions"
   ]
  },
  {
   "cell_type": "code",
   "execution_count": 4,
   "metadata": {},
   "outputs": [
    {
     "name": "stdout",
     "output_type": "stream",
     "text": [
      "['Gert', 'Grethe', 'Ghandi', 'Gandalf', 'Gwyneth']\n"
     ]
    }
   ],
   "source": [
    "# 1\n",
    "def recursive_print(names_list):\n",
    "    if len(names_list) == 0:\n",
    "        return\n",
    "    print(names_list)\n",
    "    \n",
    "if __name__ == \"__main__\":\n",
    "    names = [\"Gert\", \"Grethe\", \"Ghandi\", \"Gandalf\", \"Gwyneth\"]\n",
    "    recursive_print(names)"
   ]
  },
  {
   "cell_type": "code",
   "execution_count": null,
   "metadata": {},
   "outputs": [],
   "source": [
    "# 2\n",
    "def number_function(*numbers):\n",
    "    return sum(numbers)\n",
    "\n",
    "def build_sum(num1, num2, **nums):\n",
    "    numbers = {}\n",
    "    numbers[\"First_number\"] = num1\n",
    "    numbers[\"Second_number\"] = num2\n",
    "    for key, value in nums.items():\n",
    "        numbers[key] = value\n",
    "    return numbers\n",
    "\n",
    "sum_numbers = build_sum(1,2,Third_number= 3,Fourth_number= 4)\n",
    "\n",
    "print(sum_numbers)\n",
    "print(number_function(1,2,3,4))"
   ]
  },
  {
   "cell_type": "markdown",
   "metadata": {},
   "source": [
    "# 02-Exercise"
   ]
  },
  {
   "cell_type": "markdown",
   "metadata": {},
   "source": [
    "### Exercise 1"
   ]
  },
  {
   "cell_type": "code",
   "execution_count": 2,
   "metadata": {},
   "outputs": [
    {
     "name": "stdout",
     "output_type": "stream",
     "text": [
      "['dette er et dokument til Exercise2']\n"
     ]
    }
   ],
   "source": [
    "# 1.A\n",
    "def print_file_content(file):\n",
    "    with open(file,'r') as file_object:\n",
    "        lines = file_object.readlines()\n",
    "        print(lines)\n",
    "\n",
    "\n",
    "print_file_content(\"Exercise2.txt\")"
   ]
  },
  {
   "cell_type": "code",
   "execution_count": 41,
   "metadata": {},
   "outputs": [],
   "source": [
    "# 1.B\n",
    "tup = (\"Hello\", \"please\", \"don't\", \"delete\", \"me\")\n",
    "\n",
    "def write_list_to_file(output_file, lst): \n",
    "    with open(output_file, 'w') as file_object:\n",
    "        for line in lst:\n",
    "            file_object.write(\"%s\\n\" % line) #lidt i tvivl om (\"%s\\n\" % line). Måske man kunne have gjorde noget andet?\n",
    "        \n",
    "write_list_to_file(\"Test.txt\", tup)\n",
    "\n",
    "#-----------------------------------------------------------------------------------------------\n",
    "def write_strings_to_file(output_file, *someLines): \n",
    "    with open(output_file, 'w') as file_object:\n",
    "        for line in someLines:\n",
    "            file_object.write(\"%s\\n\" % line) #lidt i tvivl om (\"%s\\n\" % line). Måske man kunne have gjorde noget andet?\n",
    "        \n",
    "write_strings_to_file(\"Test.txt\", \"hello\", \"hello1\", \"hello2\", \"hello3\")"
   ]
  },
  {
   "cell_type": "code",
   "execution_count": 114,
   "metadata": {
    "scrolled": true
   },
   "outputs": [
    {
     "name": "stdout",
     "output_type": "stream",
     "text": [
      "('hello',)\n",
      "('hello1',)\n",
      "('hello2',)\n",
      "('hello3',)\n"
     ]
    }
   ],
   "source": [
    "# 1.C\n",
    "def read_csv(input_file):\n",
    "    with open(input_file) as file_object:\n",
    "        lines = file_object.readlines()\n",
    "        for line in lines:\n",
    "            tup = tuple(line.rstrip().split(','))\n",
    "            print(tup)         \n",
    "    \n",
    "read_csv(\"Test.txt\")  "
   ]
  },
  {
   "cell_type": "code",
   "execution_count": 4,
   "metadata": {},
   "outputs": [],
   "source": [
    "# 2.A, 2.B og 3 these exercises are in modules/three_functions.py"
   ]
  },
  {
   "cell_type": "markdown",
   "metadata": {},
   "source": [
    "### Exercise 2"
   ]
  },
  {
   "cell_type": "code",
   "execution_count": null,
   "metadata": {},
   "outputs": [],
   "source": [
    "# This exercise is in modules/utils.py"
   ]
  }
 ],
 "metadata": {
  "kernelspec": {
   "display_name": "Python 3",
   "language": "python",
   "name": "python3"
  },
  "language_info": {
   "codemirror_mode": {
    "name": "ipython",
    "version": 3
   },
   "file_extension": ".py",
   "mimetype": "text/x-python",
   "name": "python",
   "nbconvert_exporter": "python",
   "pygments_lexer": "ipython3",
   "version": "3.7.6"
  }
 },
 "nbformat": 4,
 "nbformat_minor": 4
}
